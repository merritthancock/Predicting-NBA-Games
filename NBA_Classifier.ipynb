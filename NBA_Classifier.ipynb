{
  "nbformat": 4,
  "nbformat_minor": 0,
  "metadata": {
    "colab": {
      "name": "Final_Projecta.ipynb",
      "provenance": [],
      "collapsed_sections": []
    },
    "kernelspec": {
      "name": "python3",
      "display_name": "Python 3"
    }
  },
  "cells": [
    {
      "cell_type": "markdown",
      "metadata": {
        "id": "wB1BRS0_KKYc",
        "colab_type": "text"
      },
      "source": [
        "Model to predict NBA game"
      ]
    },
    {
      "cell_type": "code",
      "metadata": {
        "id": "yJ8KGdBiKKq9",
        "colab_type": "code",
        "outputId": "40ef4810-745f-4913-88cf-bd1c6035b137",
        "colab": {
          "base_uri": "https://localhost:8080/",
          "height": 371
        }
      },
      "source": [
        "pip install sportsreference"
      ],
      "execution_count": 1,
      "outputs": [
        {
          "output_type": "stream",
          "text": [
            "Collecting sportsreference\n",
            "\u001b[?25l  Downloading https://files.pythonhosted.org/packages/4a/16/64f2181463018c00df5612cd3319a7cbf4403bd7b5c56ba8db1b9bf21a8d/sportsreference-0.4.7-py2.py3-none-any.whl (373kB)\n",
            "\r\u001b[K     |▉                               | 10kB 18.2MB/s eta 0:00:01\r\u001b[K     |█▊                              | 20kB 6.5MB/s eta 0:00:01\r\u001b[K     |██▋                             | 30kB 9.1MB/s eta 0:00:01\r\u001b[K     |███▌                            | 40kB 5.8MB/s eta 0:00:01\r\u001b[K     |████▍                           | 51kB 7.0MB/s eta 0:00:01\r\u001b[K     |█████▎                          | 61kB 8.3MB/s eta 0:00:01\r\u001b[K     |██████▏                         | 71kB 9.5MB/s eta 0:00:01\r\u001b[K     |███████                         | 81kB 10.6MB/s eta 0:00:01\r\u001b[K     |███████▉                        | 92kB 11.8MB/s eta 0:00:01\r\u001b[K     |████████▊                       | 102kB 9.3MB/s eta 0:00:01\r\u001b[K     |█████████▋                      | 112kB 9.3MB/s eta 0:00:01\r\u001b[K     |██████████▌                     | 122kB 9.3MB/s eta 0:00:01\r\u001b[K     |███████████▍                    | 133kB 9.3MB/s eta 0:00:01\r\u001b[K     |████████████▎                   | 143kB 9.3MB/s eta 0:00:01\r\u001b[K     |█████████████▏                  | 153kB 9.3MB/s eta 0:00:01\r\u001b[K     |██████████████                  | 163kB 9.3MB/s eta 0:00:01\r\u001b[K     |███████████████                 | 174kB 9.3MB/s eta 0:00:01\r\u001b[K     |███████████████▊                | 184kB 9.3MB/s eta 0:00:01\r\u001b[K     |████████████████▋               | 194kB 9.3MB/s eta 0:00:01\r\u001b[K     |█████████████████▌              | 204kB 9.3MB/s eta 0:00:01\r\u001b[K     |██████████████████▍             | 215kB 9.3MB/s eta 0:00:01\r\u001b[K     |███████████████████▎            | 225kB 9.3MB/s eta 0:00:01\r\u001b[K     |████████████████████▏           | 235kB 9.3MB/s eta 0:00:01\r\u001b[K     |█████████████████████           | 245kB 9.3MB/s eta 0:00:01\r\u001b[K     |██████████████████████          | 256kB 9.3MB/s eta 0:00:01\r\u001b[K     |██████████████████████▉         | 266kB 9.3MB/s eta 0:00:01\r\u001b[K     |███████████████████████▋        | 276kB 9.3MB/s eta 0:00:01\r\u001b[K     |████████████████████████▌       | 286kB 9.3MB/s eta 0:00:01\r\u001b[K     |█████████████████████████▍      | 296kB 9.3MB/s eta 0:00:01\r\u001b[K     |██████████████████████████▎     | 307kB 9.3MB/s eta 0:00:01\r\u001b[K     |███████████████████████████▏    | 317kB 9.3MB/s eta 0:00:01\r\u001b[K     |████████████████████████████    | 327kB 9.3MB/s eta 0:00:01\r\u001b[K     |█████████████████████████████   | 337kB 9.3MB/s eta 0:00:01\r\u001b[K     |█████████████████████████████▉  | 348kB 9.3MB/s eta 0:00:01\r\u001b[K     |██████████████████████████████▊ | 358kB 9.3MB/s eta 0:00:01\r\u001b[K     |███████████████████████████████▌| 368kB 9.3MB/s eta 0:00:01\r\u001b[K     |████████████████████████████████| 378kB 9.3MB/s \n",
            "\u001b[?25hRequirement already satisfied: requests>=2.18.4 in /usr/local/lib/python3.6/dist-packages (from sportsreference) (2.21.0)\n",
            "Collecting pyquery>=1.4.0\n",
            "  Downloading https://files.pythonhosted.org/packages/78/43/95d42e386c61cb639d1a0b94f0c0b9f0b7d6b981ad3c043a836c8b5bc68b/pyquery-1.4.1-py2.py3-none-any.whl\n",
            "Requirement already satisfied: pandas>=0.24.1 in /usr/local/lib/python3.6/dist-packages (from sportsreference) (0.25.3)\n",
            "Requirement already satisfied: idna<2.9,>=2.5 in /usr/local/lib/python3.6/dist-packages (from requests>=2.18.4->sportsreference) (2.8)\n",
            "Requirement already satisfied: certifi>=2017.4.17 in /usr/local/lib/python3.6/dist-packages (from requests>=2.18.4->sportsreference) (2019.9.11)\n",
            "Requirement already satisfied: urllib3<1.25,>=1.21.1 in /usr/local/lib/python3.6/dist-packages (from requests>=2.18.4->sportsreference) (1.24.3)\n",
            "Requirement already satisfied: chardet<3.1.0,>=3.0.2 in /usr/local/lib/python3.6/dist-packages (from requests>=2.18.4->sportsreference) (3.0.4)\n",
            "Requirement already satisfied: lxml>=2.1 in /usr/local/lib/python3.6/dist-packages (from pyquery>=1.4.0->sportsreference) (4.2.6)\n",
            "Collecting cssselect>0.7.9\n",
            "  Downloading https://files.pythonhosted.org/packages/3b/d4/3b5c17f00cce85b9a1e6f91096e1cc8e8ede2e1be8e96b87ce1ed09e92c5/cssselect-1.1.0-py2.py3-none-any.whl\n",
            "Requirement already satisfied: numpy>=1.13.3 in /usr/local/lib/python3.6/dist-packages (from pandas>=0.24.1->sportsreference) (1.17.4)\n",
            "Requirement already satisfied: python-dateutil>=2.6.1 in /usr/local/lib/python3.6/dist-packages (from pandas>=0.24.1->sportsreference) (2.6.1)\n",
            "Requirement already satisfied: pytz>=2017.2 in /usr/local/lib/python3.6/dist-packages (from pandas>=0.24.1->sportsreference) (2018.9)\n",
            "Requirement already satisfied: six>=1.5 in /usr/local/lib/python3.6/dist-packages (from python-dateutil>=2.6.1->pandas>=0.24.1->sportsreference) (1.12.0)\n",
            "Installing collected packages: cssselect, pyquery, sportsreference\n",
            "Successfully installed cssselect-1.1.0 pyquery-1.4.1 sportsreference-0.4.7\n"
          ],
          "name": "stdout"
        }
      ]
    },
    {
      "cell_type": "markdown",
      "metadata": {
        "id": "DnALOB3hKvWm",
        "colab_type": "text"
      },
      "source": [
        "Load Data using sportsreference"
      ]
    },
    {
      "cell_type": "code",
      "metadata": {
        "id": "1JQ8RiaxKvlE",
        "colab_type": "code",
        "colab": {}
      },
      "source": [
        "from sportsreference.nba.teams import Teams\n",
        "from sportsreference.nba.schedule import Schedule\n",
        "import sportsreference.nba as nba\n",
        "import numpy as np\n",
        "import matplotlib.pyplot as plt"
      ],
      "execution_count": 0,
      "outputs": []
    },
    {
      "cell_type": "markdown",
      "metadata": {
        "id": "fERngs7mYceg",
        "colab_type": "text"
      },
      "source": [
        "Perform Operations on the data"
      ]
    },
    {
      "cell_type": "code",
      "metadata": {
        "id": "1FTSPimIMhoI",
        "colab_type": "code",
        "colab": {}
      },
      "source": [
        "team_point = {}\n",
        "team_opp_point = {}\n",
        "team_differential = {}\n",
        "win = {}\n",
        "losses = {}\n",
        "for team in Teams(2018):\n",
        "  tot_wins = 0\n",
        "  names = team.abbreviation\n",
        "  sch = Schedule(names, 2018)\n",
        "  tot_wins = sch.dataframe['wins'].iloc[81]\n",
        "  win[names] = tot_wins\n",
        "  opp_points = team.opp_points\n",
        "  team_points = team.points\n",
        "  team_point[names] = team_points\n",
        "  team_opp_point[names] = team_opp_point\n",
        "  team_differential[names] = team_points - opp_points"
      ],
      "execution_count": 0,
      "outputs": []
    },
    {
      "cell_type": "markdown",
      "metadata": {
        "id": "ilIsOpPLYWWR",
        "colab_type": "text"
      },
      "source": [
        "Graph Point Differential vs Wins"
      ]
    },
    {
      "cell_type": "code",
      "metadata": {
        "id": "kEgpdXM_V4AW",
        "colab_type": "code",
        "outputId": "6093cd5f-141e-4000-e718-19e34d78d0c5",
        "colab": {
          "base_uri": "https://localhost:8080/",
          "height": 312
        }
      },
      "source": [
        "y = lambda b0, b1, x: b0 + b1*x\n",
        "b0 = -1195\n",
        "b1 = 29\n",
        "domain = np.linspace(20, 70 ,100, dtype=float)\n",
        "values = y(b0, b1, domain)\n",
        "\n",
        "fig, ax = plt.subplots(1,1)\n",
        "ax.plot(domain, values, 'r')\n",
        "ax.plot(list(win.values()), list(team_differential.values()), 'bx')\n",
        "ax.set_title('Point Differential vs Wins')\n",
        "ax.set_xlabel('Wins')\n",
        "ax.set_ylabel('Point Differential')\n",
        "ax.plot(list(win.values()), list(team_differential.values()), 'bx')"
      ],
      "execution_count": 4,
      "outputs": [
        {
          "output_type": "execute_result",
          "data": {
            "text/plain": [
              "[<matplotlib.lines.Line2D at 0x7f9ddfb94f98>]"
            ]
          },
          "metadata": {
            "tags": []
          },
          "execution_count": 4
        },
        {
          "output_type": "display_data",
          "data": {
            "image/png": "[encoded data removed]",
            "text/plain": [
              "<Figure size 432x288 with 1 Axes>"
            ]
          },
          "metadata": {
            "tags": []
          }
        }
      ]
    },
    {
      "cell_type": "markdown",
      "metadata": {
        "id": "Chlsfg6oYHPR",
        "colab_type": "text"
      },
      "source": [
        "Calculate Effective Field Goal Percentage"
      ]
    },
    {
      "cell_type": "code",
      "metadata": {
        "id": "5Shw4_aH0KWH",
        "colab_type": "code",
        "colab": {}
      },
      "source": [
        "team = Teams('2018')\n",
        "fgAttempts = team.dataframes['field_goal_attempts']\n",
        "fgMade = team.dataframes['field_goals']\n",
        "threePtFg = team.dataframes['three_point_field_goals']\n",
        "eFG = (fgMade + (0.5 * threePtFg))/fgAttempts"
      ],
      "execution_count": 0,
      "outputs": []
    },
    {
      "cell_type": "markdown",
      "metadata": {
        "id": "PmQTpsN7YMsQ",
        "colab_type": "text"
      },
      "source": [
        "Graph Effective Field Goal Percentage"
      ]
    },
    {
      "cell_type": "code",
      "metadata": {
        "id": "m00VHqLaWy8b",
        "colab_type": "code",
        "outputId": "2295c6a7-cd4a-46c6-f1ce-bbb156d47e97",
        "colab": {
          "base_uri": "https://localhost:8080/",
          "height": 312
        }
      },
      "source": [
        "y = lambda b0, b1, x: b0 + b1*x\n",
        "b0 = 0.463\n",
        "b1 = 0.0014\n",
        "domain = np.linspace(20, 70 ,100, dtype=float)\n",
        "values = y(b0, b1, domain)\n",
        "\n",
        "fig, ax = plt.subplots(1,1)\n",
        "ax.plot(domain, values, 'r')\n",
        "plt.plot(list(win.values()), eFG, 'bx')\n",
        "ax.set_title('eFG vs Wins')\n",
        "ax.set_xlabel('Wins')\n",
        "ax.set_ylabel('eFG')"
      ],
      "execution_count": 6,
      "outputs": [
        {
          "output_type": "execute_result",
          "data": {
            "text/plain": [
              "Text(0, 0.5, 'eFG')"
            ]
          },
          "metadata": {
            "tags": []
          },
          "execution_count": 6
        },
        {
          "output_type": "display_data",
          "data": {
            "image/png": "[encoded data removed]",
            "text/plain": [
              "<Figure size 432x288 with 1 Axes>"
            ]
          },
          "metadata": {
            "tags": []
          }
        }
      ]
    },
    {
      "cell_type": "markdown",
      "metadata": {
        "id": "KfpcM0SIY9da",
        "colab_type": "text"
      },
      "source": [
        "Calculate True Shooting Percentage"
      ]
    },
    {
      "cell_type": "code",
      "metadata": {
        "id": "ergwNpCGY_0E",
        "colab_type": "code",
        "colab": {}
      },
      "source": [
        "team = Teams('2018')\n",
        "fgAttempts = team.dataframes['field_goal_attempts']\n",
        "fgMade = team.dataframes['field_goals']\n",
        "threePtFg = team.dataframes['three_point_field_goals']\n",
        "free_attempt = team.dataframes['free_throw_attempts']\n",
        "points = team.dataframes['points']\n",
        "TSA = (fgAttempts + (0.44 * free_attempt))\n",
        "TSP = (points / (2 * TSA))"
      ],
      "execution_count": 0,
      "outputs": []
    },
    {
      "cell_type": "markdown",
      "metadata": {
        "id": "lI4ik-_4anj-",
        "colab_type": "text"
      },
      "source": [
        "Graph True Shooting Percentage vs Wins"
      ]
    },
    {
      "cell_type": "code",
      "metadata": {
        "id": "fQNNQ2E0aqAl",
        "colab_type": "code",
        "outputId": "51f0bc41-6995-41fa-aeb3-d8e383627590",
        "colab": {
          "base_uri": "https://localhost:8080/",
          "height": 312
        }
      },
      "source": [
        "y = lambda b0, b1, x: b0 + b1*x\n",
        "b0 = 0.5\n",
        "b1 = 0.0014\n",
        "domain = np.linspace(20, 70 ,100, dtype=float)\n",
        "values = y(b0, b1, domain)\n",
        "\n",
        "fig, ax = plt.subplots(1,1)\n",
        "ax.plot(domain, values, 'r')\n",
        "plt.plot(list(win.values()), TSP, 'bx')\n",
        "ax.set_title('TSP vs Wins')\n",
        "ax.set_xlabel('Wins')\n",
        "ax.set_ylabel('TSP')"
      ],
      "execution_count": 8,
      "outputs": [
        {
          "output_type": "execute_result",
          "data": {
            "text/plain": [
              "Text(0, 0.5, 'TSP')"
            ]
          },
          "metadata": {
            "tags": []
          },
          "execution_count": 8
        },
        {
          "output_type": "display_data",
          "data": {
            "image/png": "[encoded data removed]",
            "text/plain": [
              "<Figure size 432x288 with 1 Axes>"
            ]
          },
          "metadata": {
            "tags": []
          }
        }
      ]
    },
    {
      "cell_type": "markdown",
      "metadata": {
        "id": "DvlDILD1AYOh",
        "colab_type": "text"
      },
      "source": [
        "Code for Classifier"
      ]
    },
    {
      "cell_type": "markdown",
      "metadata": {
        "id": "pr9NyhTDd5kE",
        "colab_type": "text"
      },
      "source": [
        "Point Differential"
      ]
    },
    {
      "cell_type": "code",
      "metadata": {
        "id": "JoDboVx_AWOP",
        "colab_type": "code",
        "colab": {}
      },
      "source": [
        "team_point = {}\n",
        "team_opp_point = {}\n",
        "team_differential = {}\n",
        "\n",
        "for team in Teams(2018):\n",
        "  names = team.abbreviation\n",
        "  team_point[names] = team.points\n",
        "  team_opp_point[names] = team.opp_points\n",
        "  team_differential[names] = team_point[names] - team_opp_point[names]"
      ],
      "execution_count": 0,
      "outputs": []
    },
    {
      "cell_type": "markdown",
      "metadata": {
        "id": "eIbuQGz0d8-Q",
        "colab_type": "text"
      },
      "source": [
        "True Shooting Percentage"
      ]
    },
    {
      "cell_type": "code",
      "metadata": {
        "id": "Y2uiU1zpWXFv",
        "colab_type": "code",
        "colab": {}
      },
      "source": [
        "TSP = {}\n",
        "for team in Teams(2018):\n",
        "  names = team.abbreviation\n",
        "  fga = team.field_goal_attempts\n",
        "  fg = team.field_goals\n",
        "  threept = team.three_point_field_goals\n",
        "  freethrow = team.free_throw_attempts\n",
        "  points = team.points\n",
        "  TSA = np.float((fga + (0.44 * freethrow)))\n",
        "  TSP[names] = np.float((points / (2 * TSA)))"
      ],
      "execution_count": 0,
      "outputs": []
    },
    {
      "cell_type": "markdown",
      "metadata": {
        "id": "hGCxrb-WeAAb",
        "colab_type": "text"
      },
      "source": [
        "EFG"
      ]
    },
    {
      "cell_type": "code",
      "metadata": {
        "id": "F8m3nRPHeA9s",
        "colab_type": "code",
        "colab": {}
      },
      "source": [
        "EFG = {}\n",
        "for team in Teams(2018):\n",
        "  names = team.abbreviation\n",
        "  fga = team.field_goal_attempts\n",
        "  fg = team.field_goals\n",
        "  threept = team.three_point_field_goals\n",
        "  EFG[names] = np.float((fg + (0.5 * threept)) / fga)"
      ],
      "execution_count": 0,
      "outputs": []
    },
    {
      "cell_type": "markdown",
      "metadata": {
        "id": "b8PjLdHFe3Jv",
        "colab_type": "text"
      },
      "source": [
        "TOV"
      ]
    },
    {
      "cell_type": "code",
      "metadata": {
        "id": "SQohb8qhe4FH",
        "colab_type": "code",
        "colab": {}
      },
      "source": [
        "TOV = {}\n",
        "for team in Teams(2018):\n",
        "  names = team.abbreviation\n",
        "  turnovers = team.turnovers\n",
        "  fga = team.field_goal_attempts\n",
        "  fta = team.free_throw_attempts\n",
        "  TOV[names] = np.float((100 * turnovers) / (fga + (0.44*fta) + turnovers))"
      ],
      "execution_count": 0,
      "outputs": []
    },
    {
      "cell_type": "markdown",
      "metadata": {
        "id": "soq7AqL1g2E5",
        "colab_type": "text"
      },
      "source": [
        "Rebounds = combination of OR% and DR%"
      ]
    },
    {
      "cell_type": "code",
      "metadata": {
        "id": "GdH17WVAg2Xq",
        "colab_type": "code",
        "colab": {}
      },
      "source": [
        "REB = {}\n",
        "for team in Teams(2018):\n",
        "  names = team.abbreviation\n",
        "  turnovers = team.turnovers\n",
        "  fga = team.field_goal_attempts\n",
        "  fta = team.free_throw_attempts\n",
        "  OffReb = team.offensive_rebounds\n",
        "  Opp_Of_Reb = team.opp_offensive_rebounds\n",
        "  DefReb = team.defensive_rebounds\n",
        "  Opp_Df_Reb = team.opp_defensive_rebounds\n",
        "  OR = np.float(OffReb / (OffReb + Opp_Df_Reb))\n",
        "  DR = np.float(DefReb / (Opp_Of_Reb + DefReb))\n",
        "  REB[names] = np.float(OR + DR)"
      ],
      "execution_count": 0,
      "outputs": []
    },
    {
      "cell_type": "markdown",
      "metadata": {
        "id": "rk5uUFUQi5Eh",
        "colab_type": "text"
      },
      "source": [
        "Free Throw"
      ]
    },
    {
      "cell_type": "code",
      "metadata": {
        "id": "3QEs3p7dixMP",
        "colab_type": "code",
        "colab": {}
      },
      "source": [
        "FreeThrow = {}\n",
        "for team in Teams(2018):\n",
        "  names = team.abbreviation\n",
        "  ft = team.free_throws\n",
        "  fga = team.field_goal_attempts\n",
        "  FreeThrow[names] = np.float(ft/fga)"
      ],
      "execution_count": 0,
      "outputs": []
    },
    {
      "cell_type": "markdown",
      "metadata": {
        "id": "0oPNd4_EGpko",
        "colab_type": "text"
      },
      "source": [
        "Classifier 2019"
      ]
    },
    {
      "cell_type": "code",
      "metadata": {
        "id": "APv1IhJNGq4o",
        "colab_type": "code",
        "colab": {}
      },
      "source": [
        "Numright = 0\n",
        "Numwrong = 0\n",
        "accuracyMatrix_2019 = 0\n",
        "accuracyMatrix_2019 = {\"TruePositive\":0, \"FalsePositive\":0, \"TrueNegative\":0, \"FalseNegative\":0}\n",
        "for team in Teams(2019):\n",
        "  name = team.abbreviation\n",
        "  sch = Schedule(name,2019)\n",
        "  for game in sch:\n",
        "    prediction = \"\"\n",
        "    game_result = game.result\n",
        "    opp_name = game.opponent_abbr\n",
        "    name = team.abbreviation\n",
        "    opp_val = np.float(0.4*TSP[opp_name] + 0.25*TOV[opp_name] + 0.20*REB[opp_name] + 0.15*FreeThrow[opp_name] + 0.2*team_differential[opp_name])\n",
        "    team_val = np.float(0.4*TSP[name] + 0.25*TOV[name] + 0.20*REB[name] + 0.15*FreeThrow[name]+ 0.2*team_differential[name])\n",
        " \n",
        "    if(team_val >= opp_val):\n",
        "      prediction = \"Win\"\n",
        "    if(team_val < opp_val):\n",
        "      prediction = \"Loss\"\n",
        "    if(prediction == \"Win\" and game_result == \"Win\"):\n",
        "      accuracyMatrix_2019[\"TruePositive\"] +=1\n",
        "      Numright += 1\n",
        "    if(prediction == \"Win\" and game_result == \"Loss\"):\n",
        "      accuracyMatrix_2019[\"FalsePositive\"] +=1\n",
        "      Numwrong+=1\n",
        "    if(prediction == \"Loss\" and game_result == \"Loss\"):\n",
        "      accuracyMatrix_2019[\"TrueNegative\"] +=1\n",
        "      Numright += 1\n",
        "    if(prediction == \"Loss\" and game_result == \"Win\"):\n",
        "      accuracyMatrix_2019[\"FalseNegative\"] +=1\n",
        "      Numwrong += 1"
      ],
      "execution_count": 0,
      "outputs": []
    },
    {
      "cell_type": "code",
      "metadata": {
        "id": "RiiRKWg0GzIn",
        "colab_type": "code",
        "outputId": "aa6a118e-4422-4c2f-ebb3-adc1e3cd6ec6",
        "colab": {
          "base_uri": "https://localhost:8080/",
          "height": 50
        }
      },
      "source": [
        "print(accuracyMatrix_2019)\n",
        "mc_2019 = np.float((Numwrong/(Numright+Numwrong)))\n",
        "print(\"Misclassification rate: \", mc_2019)"
      ],
      "execution_count": 16,
      "outputs": [
        {
          "output_type": "stream",
          "text": [
            "{'TruePositive': 802, 'FalsePositive': 510, 'TrueNegative': 802, 'FalseNegative': 510}\n",
            "Misclassification rate:  0.38871951219512196\n"
          ],
          "name": "stdout"
        }
      ]
    },
    {
      "cell_type": "markdown",
      "metadata": {
        "id": "scEApKyDnqts",
        "colab_type": "text"
      },
      "source": [
        "Classifier 2018"
      ]
    },
    {
      "cell_type": "code",
      "metadata": {
        "id": "APo91z8zjSRb",
        "colab_type": "code",
        "colab": {}
      },
      "source": [
        "Numright = 0\n",
        "Numwrong = 0\n",
        "accuracyMatrix_2018 = 0\n",
        "accuracyMatrix_2018 = {\"TruePositive\":0, \"FalsePositive\":0, \"TrueNegative\":0, \"FalseNegative\":0}\n",
        "for team in Teams(2018):\n",
        "  name = team.abbreviation\n",
        "  sch = Schedule(name,2018)\n",
        "  for game in sch:\n",
        "    prediction = \"\"\n",
        "    game_result = game.result\n",
        "    opp_name = game.opponent_abbr\n",
        "    name = team.abbreviation\n",
        "    opp_val = np.float(0.4*TSP[opp_name] + 0.25*TOV[opp_name] + 0.20*REB[opp_name] + 0.15*FreeThrow[opp_name] + 0.2*team_differential[opp_name])\n",
        "    team_val = np.float(0.4*TSP[name] + 0.25*TOV[name] + 0.20*REB[name] + 0.15*FreeThrow[name]+ 0.2*team_differential[name])\n",
        " \n",
        "    if(team_val >= opp_val):\n",
        "      prediction = \"Win\"\n",
        "    if(team_val < opp_val):\n",
        "      prediction = \"Loss\"\n",
        "    if(prediction == \"Win\" and game_result == \"Win\"):\n",
        "      accuracyMatrix_2018[\"TruePositive\"] +=1\n",
        "      Numright += 1\n",
        "    if(prediction == \"Win\" and game_result == \"Loss\"):\n",
        "      accuracyMatrix_2018[\"FalsePositive\"] +=1\n",
        "      Numwrong+=1\n",
        "    if(prediction == \"Loss\" and game_result == \"Loss\"):\n",
        "      accuracyMatrix_2018[\"TrueNegative\"] +=1\n",
        "      Numright += 1\n",
        "    if(prediction == \"Loss\" and game_result == \"Win\"):\n",
        "      accuracyMatrix_2018[\"FalseNegative\"] +=1\n",
        "      Numwrong += 1\n"
      ],
      "execution_count": 0,
      "outputs": []
    },
    {
      "cell_type": "code",
      "metadata": {
        "id": "rT5srURXFvlK",
        "colab_type": "code",
        "outputId": "4eb8f923-1b53-4c8d-dc90-619bbb3194b4",
        "colab": {
          "base_uri": "https://localhost:8080/",
          "height": 50
        }
      },
      "source": [
        "print(accuracyMatrix_2018)\n",
        "mc_2018 = np.float((Numwrong/(Numright+Numwrong)))\n",
        "print(\"Misclassification rate: \", mc_2018)"
      ],
      "execution_count": 18,
      "outputs": [
        {
          "output_type": "stream",
          "text": [
            "{'TruePositive': 869, 'FalsePositive': 443, 'TrueNegative': 869, 'FalseNegative': 443}\n",
            "Misclassification rate:  0.33765243902439024\n"
          ],
          "name": "stdout"
        }
      ]
    },
    {
      "cell_type": "markdown",
      "metadata": {
        "id": "TSSf6yqVFPWf",
        "colab_type": "text"
      },
      "source": [
        "Classifier 2017"
      ]
    },
    {
      "cell_type": "code",
      "metadata": {
        "id": "Htpz-OeGFKy8",
        "colab_type": "code",
        "colab": {}
      },
      "source": [
        "Numright = 0\n",
        "Numwrong = 0\n",
        "accuracyMatrix_2017 = 0\n",
        "accuracyMatrix_2017 = {\"TruePositive\":0, \"FalsePositive\":0, \"TrueNegative\":0, \"FalseNegative\":0}\n",
        "for team in Teams(2017):\n",
        "  name = team.abbreviation\n",
        "  sch = Schedule(name,2017)\n",
        "  for game in sch:\n",
        "    prediction = \"\"\n",
        "    game_result = game.result\n",
        "    opp_name = game.opponent_abbr\n",
        "    name = team.abbreviation\n",
        "    opp_val = np.float(0.4*TSP[opp_name] + 0.25*TOV[opp_name] + 0.20*REB[opp_name] + 0.15*FreeThrow[opp_name] + 0.2*team_differential[opp_name])\n",
        "    team_val = np.float(0.4*TSP[name] + 0.25*TOV[name] + 0.20*REB[name] + 0.15*FreeThrow[name]+ 0.2*team_differential[name])\n",
        " \n",
        "    if(team_val >= opp_val):\n",
        "      prediction = \"Win\"\n",
        "    if(team_val < opp_val):\n",
        "      prediction = \"Loss\"\n",
        "    if(prediction == \"Win\" and game_result == \"Win\"):\n",
        "      accuracyMatrix_2017[\"TruePositive\"] +=1\n",
        "      Numright += 1\n",
        "    if(prediction == \"Win\" and game_result == \"Loss\"):\n",
        "      accuracyMatrix_2017[\"FalsePositive\"] +=1\n",
        "      Numwrong+=1\n",
        "    if(prediction == \"Loss\" and game_result == \"Loss\"):\n",
        "      accuracyMatrix_2017[\"TrueNegative\"] +=1\n",
        "      Numright += 1\n",
        "    if(prediction == \"Loss\" and game_result == \"Win\"):\n",
        "      accuracyMatrix_2017[\"FalseNegative\"] +=1\n",
        "      Numwrong += 1"
      ],
      "execution_count": 0,
      "outputs": []
    },
    {
      "cell_type": "code",
      "metadata": {
        "id": "Q7PxcLQpFxor",
        "colab_type": "code",
        "outputId": "8912d139-e5c6-496d-a4e2-34e62a6e2864",
        "colab": {
          "base_uri": "https://localhost:8080/",
          "height": 50
        }
      },
      "source": [
        "print(accuracyMatrix_2017)\n",
        "mc_2017 = np.float((Numwrong/(Numright+Numwrong)))\n",
        "print(\"Misclassification rate: \", mc_2017)"
      ],
      "execution_count": 20,
      "outputs": [
        {
          "output_type": "stream",
          "text": [
            "{'TruePositive': 780, 'FalsePositive': 529, 'TrueNegative': 780, 'FalseNegative': 529}\n",
            "Misclassification rate:  0.40412528647822765\n"
          ],
          "name": "stdout"
        }
      ]
    },
    {
      "cell_type": "markdown",
      "metadata": {
        "id": "T-0P6tnCFccM",
        "colab_type": "text"
      },
      "source": [
        "Classifier 2016"
      ]
    },
    {
      "cell_type": "code",
      "metadata": {
        "id": "CbCmj3MCFecq",
        "colab_type": "code",
        "colab": {}
      },
      "source": [
        "Numright = 0\n",
        "Numwrong = 0\n",
        "accuracyMatrix_2016 = 0\n",
        "accuracyMatrix_2016 = {\"TruePositive\":0, \"FalsePositive\":0, \"TrueNegative\":0, \"FalseNegative\":0}\n",
        "for team in Teams(2016):\n",
        "  name = team.abbreviation\n",
        "  sch = Schedule(name,2016)\n",
        "  for game in sch:\n",
        "    prediction = \"\"\n",
        "    game_result = game.result\n",
        "    opp_name = game.opponent_abbr\n",
        "    name = team.abbreviation\n",
        "    opp_val = np.float(0.4*TSP[opp_name] + 0.25*TOV[opp_name] + 0.20*REB[opp_name] + 0.15*FreeThrow[opp_name] + 0.2*team_differential[opp_name])\n",
        "    team_val = np.float(0.4*TSP[name] + 0.25*TOV[name] + 0.20*REB[name] + 0.15*FreeThrow[name]+ 0.2*team_differential[name])\n",
        " \n",
        "    if(team_val >= opp_val):\n",
        "      prediction = \"Win\"\n",
        "    if(team_val < opp_val):\n",
        "      prediction = \"Loss\"\n",
        "    if(prediction == \"Win\" and game_result == \"Win\"):\n",
        "      accuracyMatrix_2016[\"TruePositive\"] +=1\n",
        "      Numright += 1\n",
        "    if(prediction == \"Win\" and game_result == \"Loss\"):\n",
        "      accuracyMatrix_2016[\"FalsePositive\"] +=1\n",
        "      Numwrong+=1\n",
        "    if(prediction == \"Loss\" and game_result == \"Loss\"):\n",
        "      accuracyMatrix_2016[\"TrueNegative\"] +=1\n",
        "      Numright += 1\n",
        "    if(prediction == \"Loss\" and game_result == \"Win\"):\n",
        "      accuracyMatrix_2016[\"FalseNegative\"] +=1\n",
        "      Numwrong += 1"
      ],
      "execution_count": 0,
      "outputs": []
    },
    {
      "cell_type": "code",
      "metadata": {
        "id": "UlSqV88uEmE0",
        "colab_type": "code",
        "outputId": "a3647bc3-d6dc-441c-bcf3-0241d7cebe98",
        "colab": {
          "base_uri": "https://localhost:8080/",
          "height": 50
        }
      },
      "source": [
        "print(accuracyMatrix_2016)\n",
        "mc_2016 = np.float((Numwrong/(Numright+Numwrong)))\n",
        "print(\"Misclassification rate: \", mc_2016)"
      ],
      "execution_count": 22,
      "outputs": [
        {
          "output_type": "stream",
          "text": [
            "{'TruePositive': 765, 'FalsePositive': 551, 'TrueNegative': 765, 'FalseNegative': 551}\n",
            "Misclassification rate:  0.418693009118541\n"
          ],
          "name": "stdout"
        }
      ]
    },
    {
      "cell_type": "markdown",
      "metadata": {
        "id": "TSsLhCNfEkGP",
        "colab_type": "text"
      },
      "source": [
        "Ouput:"
      ]
    },
    {
      "cell_type": "code",
      "metadata": {
        "id": "CjmKkG_iysY_",
        "colab_type": "code",
        "outputId": "dc85e2de-c968-45de-a23b-c05a2aa5f5f3",
        "colab": {
          "base_uri": "https://localhost:8080/",
          "height": 84
        }
      },
      "source": [
        "print(\"Misclassification rate 2019:\", mc_2019)\n",
        "print(\"Misclassification rate 2018: \", mc_2018)\n",
        "print(\"Misclassification rate 2017: \", mc_2017)\n",
        "print(\"Misclassification rate 2016: \", mc_2016)\n",
        "years = np.array([\"2019\", \"2018\", \"2017\", \"2016\"])\n",
        "vals = np.array([mc_2019, mc_2018, mc_2017, mc_2019])"
      ],
      "execution_count": 23,
      "outputs": [
        {
          "output_type": "stream",
          "text": [
            "Misclassification rate 2019: 0.38871951219512196\n",
            "Misclassification rate 2018:  0.33765243902439024\n",
            "Misclassification rate 2017:  0.40412528647822765\n",
            "Misclassification rate 2016:  0.418693009118541\n"
          ],
          "name": "stdout"
        }
      ]
    },
    {
      "cell_type": "code",
      "metadata": {
        "id": "xxMNv1rZHvRP",
        "colab_type": "code",
        "outputId": "bf1ada3a-6d33-4b01-944c-fe7919147de8",
        "colab": {
          "base_uri": "https://localhost:8080/",
          "height": 298
        }
      },
      "source": [
        "index = np.arange(len(years))\n",
        "plt.bar(years, vals)\n",
        "plt.xlabel('Year', fontsize=12)\n",
        "plt.ylabel('Misclassification rate', fontsize=12)\n",
        "plt.xticks(index, years, fontsize=10)\n",
        "plt.title('Misclassification Rate from 2016-2019')\n",
        "plt.show()"
      ],
      "execution_count": 24,
      "outputs": [
        {
          "output_type": "display_data",
          "data": {
            "image/png": "[encoded data removed]",
            "text/plain": [
              "<Figure size 432x288 with 1 Axes>"
            ]
          },
          "metadata": {
            "tags": []
          }
        }
      ]
    }
  ]
}